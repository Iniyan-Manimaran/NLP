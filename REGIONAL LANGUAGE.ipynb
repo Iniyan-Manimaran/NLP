{
 "cells": [
  {
   "cell_type": "code",
   "execution_count": 2,
   "metadata": {},
   "outputs": [
    {
     "ename": "RuntimeError",
     "evalue": "This event loop is already running",
     "output_type": "error",
     "traceback": [
      "\u001b[1;31m---------------------------------------------------------------------------\u001b[0m",
      "\u001b[1;31mRuntimeError\u001b[0m                              Traceback (most recent call last)",
      "\u001b[1;32m<ipython-input-2-2b3dd1423cc4>\u001b[0m in \u001b[0;36m<module>\u001b[1;34m\u001b[0m\n\u001b[0;32m      1\u001b[0m \u001b[1;32mfrom\u001b[0m \u001b[0minltk\u001b[0m\u001b[1;33m.\u001b[0m\u001b[0minltk\u001b[0m \u001b[1;32mimport\u001b[0m \u001b[0msetup\u001b[0m\u001b[1;33m\u001b[0m\u001b[1;33m\u001b[0m\u001b[0m\n\u001b[1;32m----> 2\u001b[1;33m \u001b[0msetup\u001b[0m\u001b[1;33m(\u001b[0m\u001b[1;34m'ta'\u001b[0m\u001b[1;33m)\u001b[0m\u001b[1;33m\u001b[0m\u001b[1;33m\u001b[0m\u001b[0m\n\u001b[0m",
      "\u001b[1;32m~\\Anaconda3\\lib\\site-packages\\inltk\\inltk.py\u001b[0m in \u001b[0;36msetup\u001b[1;34m(language_code)\u001b[0m\n\u001b[0;32m     26\u001b[0m     \u001b[0mloop\u001b[0m \u001b[1;33m=\u001b[0m \u001b[0masyncio\u001b[0m\u001b[1;33m.\u001b[0m\u001b[0mget_event_loop\u001b[0m\u001b[1;33m(\u001b[0m\u001b[1;33m)\u001b[0m\u001b[1;33m\u001b[0m\u001b[1;33m\u001b[0m\u001b[0m\n\u001b[0;32m     27\u001b[0m     \u001b[0mtasks\u001b[0m \u001b[1;33m=\u001b[0m \u001b[1;33m[\u001b[0m\u001b[0masyncio\u001b[0m\u001b[1;33m.\u001b[0m\u001b[0mensure_future\u001b[0m\u001b[1;33m(\u001b[0m\u001b[0mdownload\u001b[0m\u001b[1;33m(\u001b[0m\u001b[0mlanguage_code\u001b[0m\u001b[1;33m)\u001b[0m\u001b[1;33m)\u001b[0m\u001b[1;33m]\u001b[0m\u001b[1;33m\u001b[0m\u001b[1;33m\u001b[0m\u001b[0m\n\u001b[1;32m---> 28\u001b[1;33m     \u001b[0mlearn\u001b[0m \u001b[1;33m=\u001b[0m \u001b[0mloop\u001b[0m\u001b[1;33m.\u001b[0m\u001b[0mrun_until_complete\u001b[0m\u001b[1;33m(\u001b[0m\u001b[0masyncio\u001b[0m\u001b[1;33m.\u001b[0m\u001b[0mgather\u001b[0m\u001b[1;33m(\u001b[0m\u001b[1;33m*\u001b[0m\u001b[0mtasks\u001b[0m\u001b[1;33m)\u001b[0m\u001b[1;33m)\u001b[0m\u001b[1;33m[\u001b[0m\u001b[1;36m0\u001b[0m\u001b[1;33m]\u001b[0m\u001b[1;33m\u001b[0m\u001b[1;33m\u001b[0m\u001b[0m\n\u001b[0m\u001b[0;32m     29\u001b[0m     \u001b[0mloop\u001b[0m\u001b[1;33m.\u001b[0m\u001b[0mclose\u001b[0m\u001b[1;33m(\u001b[0m\u001b[1;33m)\u001b[0m\u001b[1;33m\u001b[0m\u001b[1;33m\u001b[0m\u001b[0m\n\u001b[0;32m     30\u001b[0m \u001b[1;33m\u001b[0m\u001b[0m\n",
      "\u001b[1;32m~\\Anaconda3\\lib\\asyncio\\base_events.py\u001b[0m in \u001b[0;36mrun_until_complete\u001b[1;34m(self, future)\u001b[0m\n\u001b[0;32m    564\u001b[0m         \u001b[0mfuture\u001b[0m\u001b[1;33m.\u001b[0m\u001b[0madd_done_callback\u001b[0m\u001b[1;33m(\u001b[0m\u001b[0m_run_until_complete_cb\u001b[0m\u001b[1;33m)\u001b[0m\u001b[1;33m\u001b[0m\u001b[1;33m\u001b[0m\u001b[0m\n\u001b[0;32m    565\u001b[0m         \u001b[1;32mtry\u001b[0m\u001b[1;33m:\u001b[0m\u001b[1;33m\u001b[0m\u001b[1;33m\u001b[0m\u001b[0m\n\u001b[1;32m--> 566\u001b[1;33m             \u001b[0mself\u001b[0m\u001b[1;33m.\u001b[0m\u001b[0mrun_forever\u001b[0m\u001b[1;33m(\u001b[0m\u001b[1;33m)\u001b[0m\u001b[1;33m\u001b[0m\u001b[1;33m\u001b[0m\u001b[0m\n\u001b[0m\u001b[0;32m    567\u001b[0m         \u001b[1;32mexcept\u001b[0m\u001b[1;33m:\u001b[0m\u001b[1;33m\u001b[0m\u001b[1;33m\u001b[0m\u001b[0m\n\u001b[0;32m    568\u001b[0m             \u001b[1;32mif\u001b[0m \u001b[0mnew_task\u001b[0m \u001b[1;32mand\u001b[0m \u001b[0mfuture\u001b[0m\u001b[1;33m.\u001b[0m\u001b[0mdone\u001b[0m\u001b[1;33m(\u001b[0m\u001b[1;33m)\u001b[0m \u001b[1;32mand\u001b[0m \u001b[1;32mnot\u001b[0m \u001b[0mfuture\u001b[0m\u001b[1;33m.\u001b[0m\u001b[0mcancelled\u001b[0m\u001b[1;33m(\u001b[0m\u001b[1;33m)\u001b[0m\u001b[1;33m:\u001b[0m\u001b[1;33m\u001b[0m\u001b[1;33m\u001b[0m\u001b[0m\n",
      "\u001b[1;32m~\\Anaconda3\\lib\\asyncio\\base_events.py\u001b[0m in \u001b[0;36mrun_forever\u001b[1;34m(self)\u001b[0m\n\u001b[0;32m    519\u001b[0m         \u001b[0mself\u001b[0m\u001b[1;33m.\u001b[0m\u001b[0m_check_closed\u001b[0m\u001b[1;33m(\u001b[0m\u001b[1;33m)\u001b[0m\u001b[1;33m\u001b[0m\u001b[1;33m\u001b[0m\u001b[0m\n\u001b[0;32m    520\u001b[0m         \u001b[1;32mif\u001b[0m \u001b[0mself\u001b[0m\u001b[1;33m.\u001b[0m\u001b[0mis_running\u001b[0m\u001b[1;33m(\u001b[0m\u001b[1;33m)\u001b[0m\u001b[1;33m:\u001b[0m\u001b[1;33m\u001b[0m\u001b[1;33m\u001b[0m\u001b[0m\n\u001b[1;32m--> 521\u001b[1;33m             \u001b[1;32mraise\u001b[0m \u001b[0mRuntimeError\u001b[0m\u001b[1;33m(\u001b[0m\u001b[1;34m'This event loop is already running'\u001b[0m\u001b[1;33m)\u001b[0m\u001b[1;33m\u001b[0m\u001b[1;33m\u001b[0m\u001b[0m\n\u001b[0m\u001b[0;32m    522\u001b[0m         \u001b[1;32mif\u001b[0m \u001b[0mevents\u001b[0m\u001b[1;33m.\u001b[0m\u001b[0m_get_running_loop\u001b[0m\u001b[1;33m(\u001b[0m\u001b[1;33m)\u001b[0m \u001b[1;32mis\u001b[0m \u001b[1;32mnot\u001b[0m \u001b[1;32mNone\u001b[0m\u001b[1;33m:\u001b[0m\u001b[1;33m\u001b[0m\u001b[1;33m\u001b[0m\u001b[0m\n\u001b[0;32m    523\u001b[0m             raise RuntimeError(\n",
      "\u001b[1;31mRuntimeError\u001b[0m: This event loop is already running"
     ]
    }
   ],
   "source": [
    "from inltk.inltk import setup\n",
    "setup('ta')"
   ]
  },
  {
   "cell_type": "code",
   "execution_count": 4,
   "metadata": {},
   "outputs": [],
   "source": [
    "from inltk.inltk import tokenize"
   ]
  },
  {
   "cell_type": "code",
   "execution_count": 15,
   "metadata": {},
   "outputs": [
    {
     "data": {
      "text/plain": [
       "['▁\"',\n",
       " 'கா',\n",
       " 'ப்ப',\n",
       " 'ிய',\n",
       " 'ங்களுக்கான',\n",
       " '▁இலக்கண',\n",
       " '▁அமைப்பு',\n",
       " '▁அனைத்தும்',\n",
       " '▁பொருந்த',\n",
       " 'ி',\n",
       " '▁வரும்',\n",
       " 'படி',\n",
       " '▁இயற்றப்பட்ட',\n",
       " '▁காப்பிய',\n",
       " 'மாகும்',\n",
       " '.',\n",
       " '▁காவிரி',\n",
       " ',',\n",
       " '▁வை',\n",
       " 'கை',\n",
       " '▁முதலான',\n",
       " '▁ஆறு',\n",
       " 'களும்',\n",
       " '▁பு',\n",
       " 'கார்',\n",
       " ',',\n",
       " '▁உற',\n",
       " 'ந்தை',\n",
       " ',',\n",
       " '▁மதுரை',\n",
       " '▁',\n",
       " ',',\n",
       " '▁வ',\n",
       " 'ஞ்சி',\n",
       " '▁முதலான',\n",
       " '▁நகர',\n",
       " 'ங்களும்',\n",
       " ',',\n",
       " '▁கு',\n",
       " 'ர',\n",
       " 'வைக்',\n",
       " '▁கூ',\n",
       " 'த்து',\n",
       " '▁முதலிய',\n",
       " '▁கூ',\n",
       " 'த்து',\n",
       " 'களும்',\n",
       " ',',\n",
       " '▁திருமால',\n",
       " '்',\n",
       " '▁முதலிய',\n",
       " '▁தெய்வ',\n",
       " 'ங்களும்',\n",
       " ',',\n",
       " '▁அடர்ந்த',\n",
       " 'ு',\n",
       " '▁வளர்ந்த',\n",
       " '▁பெரு',\n",
       " 'ங்கா',\n",
       " 'டு',\n",
       " 'களும்',\n",
       " '▁இந்நூல',\n",
       " 'ில்',\n",
       " '▁நன்கு',\n",
       " '▁வர்ண',\n",
       " 'ிக்க',\n",
       " 'ப்பட்டுள்ளன',\n",
       " '.',\n",
       " '▁அக்கால',\n",
       " 'த்',\n",
       " '▁தமிழ்',\n",
       " '▁மக்களின்',\n",
       " '▁வாழ்க்கை',\n",
       " '▁பற்றிய',\n",
       " '▁செய்திகள்',\n",
       " '▁இதில்',\n",
       " '▁இடம்',\n",
       " '▁பெற்றுள்ளன',\n",
       " '.',\n",
       " '▁சிலப்பதிகார',\n",
       " 'ப்',\n",
       " '▁பதி',\n",
       " 'கம்',\n",
       " '▁இதனை',\n",
       " '▁உரை',\n",
       " 'யி',\n",
       " 'டை',\n",
       " 'யிட்ட',\n",
       " '▁',\n",
       " 'பாட்டு',\n",
       " 'டை',\n",
       " 'ச்',\n",
       " '▁செய்ய',\n",
       " 'ுள்',\n",
       " '▁எனக்',\n",
       " '▁குறிக்க',\n",
       " 'ின்றது',\n",
       " '.',\n",
       " '▁இடை',\n",
       " 'ய',\n",
       " 'ிடையே',\n",
       " '▁உரை',\n",
       " 'களும்',\n",
       " '▁வரி',\n",
       " 'ப்பாட்டு',\n",
       " 'களும்',\n",
       " '▁கலந்து',\n",
       " '▁வந்த',\n",
       " 'ுள்ளன',\n",
       " '.',\n",
       " '▁பொருட்',\n",
       " 'செ',\n",
       " 'றிவு',\n",
       " ',',\n",
       " '▁தெளிவான',\n",
       " '▁இன',\n",
       " 'ிய',\n",
       " '▁எளிய',\n",
       " '▁நடை',\n",
       " 'யுடன்',\n",
       " ',',\n",
       " '▁அணி',\n",
       " 'கள்',\n",
       " '▁பல',\n",
       " '▁பொதி',\n",
       " 'ந்த',\n",
       " '▁தமிழ',\n",
       " 'ின்',\n",
       " '▁வள',\n",
       " 'மான',\n",
       " '▁நூலாக',\n",
       " 'ும்',\n",
       " '.']"
      ]
     },
     "execution_count": 15,
     "metadata": {},
     "output_type": "execute_result"
    }
   ],
   "source": [
    "tamil_text = \"\"\"\"காப்பியங்களுக்கான இலக்கண அமைப்பு அனைத்தும் பொருந்தி வரும்படி இயற்றப்பட்ட காப்பியமாகும். காவிரி, வைகை முதலான ஆறுகளும் புகார், உறந்தை, மதுரை , வஞ்சி முதலான நகரங்களும், குரவைக் கூத்து முதலிய கூத்துகளும், திருமால் முதலிய தெய்வங்களும், அடர்ந்து வளர்ந்த பெருங்காடுகளும் இந்நூலில் நன்கு வர்ணிக்கப்பட்டுள்ளன. அக்காலத் தமிழ் மக்களின் வாழ்க்கை பற்றிய செய்திகள் இதில் இடம் பெற்றுள்ளன. சிலப்பதிகாரப் பதிகம் இதனை உரையிடையிட்ட பாட்டுடைச் செய்யுள் எனக் குறிக்கின்றது. இடையிடையே உரைகளும் வரிப்பாட்டுகளும் கலந்து வந்துள்ளன. பொருட்செறிவு, தெளிவான இனிய எளிய நடையுடன், அணிகள் பல பொதிந்த தமிழின் வளமான நூலாகும்.\"\"\"\n",
    "tokenize(tamil_text, \"ta\")"
   ]
  },
  {
   "cell_type": "code",
   "execution_count": 16,
   "metadata": {},
   "outputs": [
    {
     "data": {
      "text/html": [],
      "text/plain": [
       "<IPython.core.display.HTML object>"
      ]
     },
     "metadata": {},
     "output_type": "display_data"
    },
    {
     "data": {
      "text/html": [],
      "text/plain": [
       "<IPython.core.display.HTML object>"
      ]
     },
     "metadata": {},
     "output_type": "display_data"
    },
    {
     "name": "stdout",
     "output_type": "stream",
     "text": [
      "[array([-0.17714 ,  0.029963, -0.12491 ,  0.333723, ..., -0.535758,  0.660839, -0.231939, -0.320484], dtype=float32), array([-0.032691, -0.459572,  0.710973, -0.44687 , ..., -0.491437,  0.87085 , -0.011815,  0.266626], dtype=float32), array([-0.045066, -0.143459,  0.362375, -0.035155, ..., -0.777758,  0.084538, -0.068559,  0.275729], dtype=float32), array([ 0.996046, -0.564246, -0.040765, -0.063591, ..., -0.312398,  0.395   ,  0.52242 ,  0.579899], dtype=float32)]\n",
      "shape: (400,)\n"
     ]
    }
   ],
   "source": [
    "from inltk.inltk import get_embedding_vectors\n",
    "\n",
    "# get embedding for input words\n",
    "vectors = get_embedding_vectors(\"காப்பியங்களுக்கான இலக்கண அமைப்ப \", \"ta\")\n",
    "\n",
    "print(vectors)\n",
    "# print shape of the first word\n",
    "print(\"shape:\", vectors[0].shape)"
   ]
  },
  {
   "cell_type": "code",
   "execution_count": 7,
   "metadata": {},
   "outputs": [],
   "source": [
    "import sys\n",
    "from indicnlp import common\n",
    "\n",
    "# The path to the local git repo for Indic NLP library\n",
    "INDIC_NLP_LIB_HOME=r\"indic_nlp_library\"\n",
    "\n",
    "# The path to the local git repo for Indic NLP Resources\n",
    "INDIC_NLP_RESOURCES=r\"indic_nlp_resources\"\n",
    "\n",
    "# Add library to Python path\n",
    "sys.path.append(r'{}\\src'.format(INDIC_NLP_LIB_HOME))\n",
    "\n",
    "# Set environment variable for resources folder\n",
    "common.set_resources_path(INDIC_NLP_RESOURCES)"
   ]
  },
  {
   "cell_type": "code",
   "execution_count": 17,
   "metadata": {},
   "outputs": [],
   "source": [
    "from indicnlp.tokenize import sentence_tokenize"
   ]
  },
  {
   "cell_type": "code",
   "execution_count": 18,
   "metadata": {},
   "outputs": [],
   "source": [
    "indic_string=' இறையனார் களவியல் உரைகாரர், இளம்பூரனார் போன்ற உரையாசிரியர்களால் மேற்கோளாக எடுத்தாளப்பட்ட பெருமை உடையது. தமிழறிஞர்களால் மிகுதியாக ஆய்வுக்கு உட்பட்ட நூல் இதுவேயாகும்.'"
   ]
  },
  {
   "cell_type": "markdown",
   "metadata": {},
   "source": [
    "# Sentence Splitter"
   ]
  },
  {
   "cell_type": "code",
   "execution_count": 19,
   "metadata": {},
   "outputs": [
    {
     "name": "stdout",
     "output_type": "stream",
     "text": [
      "இறையனார் களவியல் உரைகாரர், இளம்பூரனார் போன்ற உரையாசிரியர்களால் மேற்கோளாக எடுத்தாளப்பட்ட பெருமை உடையது.\n",
      "தமிழறிஞர்களால் மிகுதியாக ஆய்வுக்கு உட்பட்ட நூல் இதுவேயாகும்.\n"
     ]
    }
   ],
   "source": [
    "from indicnlp.tokenize import sentence_tokenize\n",
    "\n",
    "indic_string=\"\"\" இறையனார் களவியல் உரைகாரர், இளம்பூரனார் போன்ற உரையாசிரியர்களால் மேற்கோளாக எடுத்தாளப்பட்ட பெருமை உடையது. தமிழறிஞர்களால் மிகுதியாக ஆய்வுக்கு உட்பட்ட நூல் இதுவேயாகும்.\"\"\"\n",
    "sentences=sentence_tokenize.sentence_split(indic_string, lang='tam')\n",
    "for t in sentences:\n",
    "    print(t)"
   ]
  },
  {
   "cell_type": "markdown",
   "metadata": {},
   "source": [
    "# Tokenization"
   ]
  },
  {
   "cell_type": "code",
   "execution_count": 20,
   "metadata": {},
   "outputs": [
    {
     "name": "stdout",
     "output_type": "stream",
     "text": [
      "Input String: சங்க காலத்திற்கு அடுத்து வந்த காலப்பகுதியில் அறவழி கூறும் நூல்கள் மிகுதியாக வெளிவந்தன. \n",
      "Tokens: \n",
      "சங்க\n",
      "காலத்திற்கு\n",
      "அடுத்து\n",
      "வந்த\n",
      "காலப்பகுதியில்\n",
      "அறவழி\n",
      "கூறும்\n",
      "நூல்கள்\n",
      "மிகுதியாக\n",
      "வெளிவந்தன\n",
      ".\n"
     ]
    }
   ],
   "source": [
    "from indicnlp.tokenize import indic_tokenize  \n",
    "\n",
    "indic_string='சங்க காலத்திற்கு அடுத்து வந்த காலப்பகுதியில் அறவழி கூறும் நூல்கள் மிகுதியாக வெளிவந்தன. '\n",
    "\n",
    "print('Input String: {}'.format(indic_string))\n",
    "print('Tokens: ')\n",
    "for t in indic_tokenize.trivial_tokenize(indic_string): \n",
    "    print(t)"
   ]
  },
  {
   "cell_type": "markdown",
   "metadata": {},
   "source": [
    "# Detokenization"
   ]
  },
  {
   "cell_type": "code",
   "execution_count": 21,
   "metadata": {},
   "outputs": [
    {
     "name": "stdout",
     "output_type": "stream",
     "text": [
      "Input String: \"சங்க காலத்திற்கு அடுத்து வந்த காலப்பகுதியில் அறவழி கூறும் நூல்கள் மிகுதியாக வெளிவந்தன.\" , \"எனவே இக்காலம் நீதிநூற்காலம் எனப்படுகிறது. \"\n",
      "Detokenized String: \"சங்க காலத்திற்கு அடுத்து வந்த காலப்பகுதியில் அறவழி கூறும் நூல்கள் மிகுதியாக வெளிவந்தன.\", \"எனவே இக்காலம் நீதிநூற்காலம் எனப்படுகிறது.\"\n"
     ]
    }
   ],
   "source": [
    "from indicnlp.tokenize import indic_detokenize  \n",
    "indic_string='\"சங்க காலத்திற்கு அடுத்து வந்த காலப்பகுதியில் அறவழி கூறும் நூல்கள் மிகுதியாக வெளிவந்தன.\" , \"எனவே இக்காலம் நீதிநூற்காலம் எனப்படுகிறது. \"'\n",
    "print('Input String: {}'.format(indic_string))\n",
    "print('Detokenized String: {}'.format(indic_detokenize.trivial_detokenize(indic_string,lang='ta')))"
   ]
  },
  {
   "cell_type": "markdown",
   "metadata": {},
   "source": [
    "# Script Conversion (Tamil - Malayalam)"
   ]
  },
  {
   "cell_type": "code",
   "execution_count": 22,
   "metadata": {},
   "outputs": [
    {
     "name": "stdout",
     "output_type": "stream",
     "text": [
      "18 ആമ്, 19 ആമ് നൂറ്റാണ്ടുക് കാലപ്പകുതിയില് തമിഴ്നാട്ടില് അരചിയല്, മതമ്, കല്വി പോഩ്റ തളങ്കളില് പല വിതമാഩ മാറ്റങ്കള് ഇടമ്പെറ്റഩ. കുഩ്റക്കുടി, തിരുവാവടുതുറൈ, തിരുപ്പഩന്താള് പോഩ്റ ചൈവ മടങ്കളിഩ് ആതരവാലുമ്, ചില പുലവര് പരമ്പരൈയിഩരിഩ് മുയറ്ചിയാലുമ് തമിഴ് ഇലക്കിയച് ചെല്വങ്കള്, വിഴുമിയങ്കള് അഴിവുറുവതു കാലത്താല് തടുക്കപ്പട്ടതു.\n"
     ]
    }
   ],
   "source": [
    "from indicnlp.transliterate.unicode_transliterate import UnicodeIndicTransliterator\n",
    "input_text='18 ஆம், 19 ஆம் நூற்றாண்டுக் காலப்பகுதியில் தமிழ்நாட்டில் அரசியல், மதம், கல்வி போன்ற தளங்களில் பல விதமான மாற்றங்கள் இடம்பெற்றன. குன்றக்குடி, திருவாவடுதுறை, திருப்பனந்தாள் போன்ற சைவ மடங்களின் ஆதரவாலும், சில புலவர் பரம்பரையினரின் முயற்சியாலும் தமிழ் இலக்கியச் செல்வங்கள், விழுமியங்கள் அழிவுறுவது காலத்தால் தடுக்கப்பட்டது.'\n",
    "print(UnicodeIndicTransliterator.transliterate(input_text,\"ta\",\"ml\"))"
   ]
  },
  {
   "cell_type": "markdown",
   "metadata": {},
   "source": [
    "# Transliteration"
   ]
  },
  {
   "cell_type": "code",
   "execution_count": 23,
   "metadata": {},
   "outputs": [
    {
     "name": "stdout",
     "output_type": "stream",
     "text": [
      "18 ஆ, 19 ஆ ூாு ாலபுிி திாி அரிய, மத, கி ோற தளகி பல ிதான ாறக இடெறன. ுறுி, ிுாவுுை, ிுபனா ோற ைவ மடகி ஆதராு, ில ுலவ பரபைினி ுயிாு தி இலிய ெவக, ிுியக அிுுவு ாலா துகபடு.\n"
     ]
    }
   ],
   "source": [
    "from indicnlp.transliterate.unicode_transliterate import ItransTransliterator\n",
    "\n",
    "input_text='18 ஆம், 19 ஆம் நூற்றாண்டுக் காலப்பகுதியில் தமிழ்நாட்டில் அரசியல், மதம், கல்வி போன்ற தளங்களில் பல விதமான மாற்றங்கள் இடம்பெற்றன. குன்றக்குடி, திருவாவடுதுறை, திருப்பனந்தாள் போன்ற சைவ மடங்களின் ஆதரவாலும், சில புலவர் பரம்பரையினரின் முயற்சியாலும் தமிழ் இலக்கியச் செல்வங்கள், விழுமியங்கள் அழிவுறுவது காலத்தால் தடுக்கப்பட்டது.'\n",
    "# Transliterate Tamil to Roman\n",
    "print(ItransTransliterator.to_itrans(input_text, 'ta'))"
   ]
  },
  {
   "cell_type": "code",
   "execution_count": null,
   "metadata": {},
   "outputs": [],
   "source": []
  },
  {
   "cell_type": "code",
   "execution_count": null,
   "metadata": {},
   "outputs": [],
   "source": []
  },
  {
   "cell_type": "code",
   "execution_count": null,
   "metadata": {},
   "outputs": [],
   "source": []
  }
 ],
 "metadata": {
  "kernelspec": {
   "display_name": "Python 3",
   "language": "python",
   "name": "python3"
  },
  "language_info": {
   "codemirror_mode": {
    "name": "ipython",
    "version": 3
   },
   "file_extension": ".py",
   "mimetype": "text/x-python",
   "name": "python",
   "nbconvert_exporter": "python",
   "pygments_lexer": "ipython3",
   "version": "3.7.4"
  }
 },
 "nbformat": 4,
 "nbformat_minor": 4
}
